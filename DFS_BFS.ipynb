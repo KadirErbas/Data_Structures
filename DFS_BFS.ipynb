{
 "cells": [
  {
   "cell_type": "code",
   "execution_count": 29,
   "id": "5b58646d",
   "metadata": {},
   "outputs": [],
   "source": [
    "class Node():\n",
    "    def __init__(self, value):\n",
    "        self.value = value\n",
    "        self.left = None\n",
    "        self.right = None\n",
    "\n",
    "        \n",
    "class BinarySearchTree():\n",
    "    def __init__(self):\n",
    "        self.root = None\n",
    "    \n",
    "    def insert(self, value):\n",
    "        \n",
    "        newNode = Node(value)\n",
    "        \n",
    "        if self.root == None:\n",
    "            self.root = newNode\n",
    "            return True\n",
    "        \n",
    "        tempNode = self.root\n",
    "        \n",
    "        while True:\n",
    "            if newNode.value == tempNode.value:\n",
    "                return False\n",
    "            \n",
    "            elif newNode.value < tempNode.value:\n",
    "                if tempNode.left is None:\n",
    "                    tempNode.left = newNode\n",
    "                    return True\n",
    "                else:\n",
    "                    tempNode = tempNode.left\n",
    "            \n",
    "            elif newNode.value > tempNode.value:\n",
    "                if tempNode.right == None:\n",
    "                    tempNode.right = newNode\n",
    "                    return True\n",
    "                else:\n",
    "                    tempNode = tempNode.right\n",
    "    \n",
    "   \n",
    "    def contains(self,value):\n",
    "        tempNode = self.root\n",
    "        \n",
    "        while tempNode:\n",
    "            if value == tempNode.value:\n",
    "                return True\n",
    "            elif value < tempNode.value:\n",
    "                tempNode = tempNode.left\n",
    "            else:\n",
    "                tempNode = tempNode.right\n",
    "        return False\n",
    "    \n",
    "    \n",
    "    def minOfNode(self):\n",
    "        tempNode = self.root\n",
    "        \n",
    "        while tempNode.left:\n",
    "            tempNode = tempNode.left        \n",
    "        return tempNode.value\n",
    "    \n",
    "    \n",
    "    def maxOfNode(self):\n",
    "        tempNode = self.root\n",
    "        \n",
    "        while tempNode.right:\n",
    "            tempNode = tempNode.right       \n",
    "        return tempNode.value\n",
    "    \n",
    "    # Breadth First Search\n",
    "    def BFS(self):\n",
    "        currNode = self.root\n",
    "        myQueue = []\n",
    "        result = []\n",
    "        myQueue.append(currNode)\n",
    "        \n",
    "        while myQueue:\n",
    "            currNode = myQueue.pop(0)                        \n",
    "            result.append(currNode.value)\n",
    "            if currNode.left:\n",
    "                myQueue.append(currNode.left)                       \n",
    "            if currNode.right:\n",
    "                 myQueue.append(currNode.right)     \n",
    "        return result\n",
    "    \n",
    "    def DFSPreOrder(self):\n",
    "        values = []\n",
    "        def traverse(currentNode):\n",
    "            values.append(currentNode.value)\n",
    "            if currentNode.left is not None:\n",
    "                traverse(currentNode.left)\n",
    "            if currentNode.right is not None:\n",
    "                traverse(currentNode.right)\n",
    "        traverse(self.root)\n",
    "        return values\n",
    "    \n",
    "    def DFSPostOrder(self):\n",
    "        values = []\n",
    "        def traverse(currentNode):\n",
    "            if currentNode.left is not None:\n",
    "                traverse(currentNode.left)\n",
    "            if currentNode.right is not None:\n",
    "                traverse(currentNode.right)\n",
    "            values.append(currentNode.value)\n",
    "        traverse(self.root)\n",
    "        return values\n",
    "    \n",
    "    def DFSInOrder(self):\n",
    "        values = []\n",
    "        def traverse(currentNode):\n",
    "            if currentNode.left is not None:\n",
    "                traverse(currentNode.left)\n",
    "            values.append(currentNode.value)\n",
    "            if currentNode.right is not None:\n",
    "                traverse(currentNode.right)\n",
    "        traverse(self.root)\n",
    "        return values\n",
    "            "
   ]
  },
  {
   "cell_type": "code",
   "execution_count": 30,
   "id": "716b0db8",
   "metadata": {},
   "outputs": [],
   "source": [
    "myTree = BinarySearchTree()"
   ]
  },
  {
   "cell_type": "code",
   "execution_count": 31,
   "id": "fed46c7b",
   "metadata": {},
   "outputs": [
    {
     "data": {
      "text/plain": [
       "True"
      ]
     },
     "execution_count": 31,
     "metadata": {},
     "output_type": "execute_result"
    }
   ],
   "source": [
    "myTree.insert(38)\n",
    "myTree.insert(19)\n",
    "myTree.insert(69)\n",
    "myTree.insert(12)\n",
    "myTree.insert(24)\n",
    "myTree.insert(59)\n",
    "myTree.insert(95)"
   ]
  },
  {
   "cell_type": "code",
   "execution_count": 32,
   "id": "895eacc8",
   "metadata": {},
   "outputs": [
    {
     "data": {
      "text/plain": [
       "[38, 19, 69, 12, 24, 59, 95]"
      ]
     },
     "execution_count": 32,
     "metadata": {},
     "output_type": "execute_result"
    }
   ],
   "source": [
    "myTree.BFS()"
   ]
  },
  {
   "cell_type": "code",
   "execution_count": 33,
   "id": "89738248",
   "metadata": {},
   "outputs": [
    {
     "data": {
      "text/plain": [
       "[38, 19, 12, 24, 69, 59, 95]"
      ]
     },
     "execution_count": 33,
     "metadata": {},
     "output_type": "execute_result"
    }
   ],
   "source": [
    "myTree.DFSPreOrder()"
   ]
  },
  {
   "cell_type": "code",
   "execution_count": 34,
   "id": "0bcf4c93",
   "metadata": {},
   "outputs": [
    {
     "data": {
      "text/plain": [
       "[12, 24, 19, 59, 95, 69, 38]"
      ]
     },
     "execution_count": 34,
     "metadata": {},
     "output_type": "execute_result"
    }
   ],
   "source": [
    "myTree.DFSPostOrder()"
   ]
  },
  {
   "cell_type": "code",
   "execution_count": 36,
   "id": "e4eb08e4",
   "metadata": {},
   "outputs": [
    {
     "data": {
      "text/plain": [
       "[12, 19, 24, 38, 59, 69, 95]"
      ]
     },
     "execution_count": 36,
     "metadata": {},
     "output_type": "execute_result"
    }
   ],
   "source": [
    "myTree.DFSInOrder()"
   ]
  },
  {
   "cell_type": "code",
   "execution_count": null,
   "id": "20f0f4af",
   "metadata": {},
   "outputs": [],
   "source": []
  }
 ],
 "metadata": {
  "kernelspec": {
   "display_name": "Python 3 (ipykernel)",
   "language": "python",
   "name": "python3"
  },
  "language_info": {
   "codemirror_mode": {
    "name": "ipython",
    "version": 3
   },
   "file_extension": ".py",
   "mimetype": "text/x-python",
   "name": "python",
   "nbconvert_exporter": "python",
   "pygments_lexer": "ipython3",
   "version": "3.9.13"
  }
 },
 "nbformat": 4,
 "nbformat_minor": 5
}
